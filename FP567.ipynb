{
 "cells": [
  {
   "cell_type": "code",
   "execution_count": 29,
   "metadata": {
    "pycharm": {
     "name": "#%%\n"
    }
   },
   "outputs": [
    {
     "name": "stdout",
     "output_type": "stream",
     "text": [
      "The autoreload extension is already loaded. To reload it, use:\n",
      "  %reload_ext autoreload\n"
     ]
    }
   ],
   "source": [
    "%load_ext autoreload\n",
    "%autoreload 2\n",
    "\n",
    "from FP567_Lib import *\n",
    "\n",
    "import tensorflow as tf\n",
    "from tensorflow import keras\n",
    "import matplotlib as mpl\n",
    "import matplotlib.pyplot as plt\n",
    "import pathlib\n",
    "import os\n",
    "import glob\n",
    "import json\n",
    "import numpy as np\n",
    "import pandas as pd\n",
    "\n",
    "# improve/change plot appearance\n",
    "mpl.rc('axes', labelsize=14)\n",
    "mpl.rc('xtick', labelsize=12)\n",
    "mpl.rc('ytick', labelsize=12)"
   ]
  },
  {
   "cell_type": "code",
   "execution_count": 25,
   "metadata": {
    "pycharm": {
     "name": "#%%\n"
    }
   },
   "outputs": [],
   "source": [
    "'''\n",
    "We have all the files in resources/market_item_data/, which are item infos in the form of:\n",
    "{ \n",
    "    item_id : \n",
    "    [\n",
    "        [date/time_n+1, price_at_time_n+1, amount_sold_at_time_n+1], [date/time_n+2, price_at_time_n+2, amount_sold_at_time_n+2], ..., [date/time_n+m, price_at_time_n+m, amount_sold_at_time_n+m]\n",
    "    ]\n",
    "}\n",
    "for some amount of time.\n",
    "The amount of time varies between items, as not all items have existed as long as others.\n",
    "\n",
    "Let's make a Market object, which computes a bunch of the info we want.\n",
    "'''\n",
    "market = Market()"
   ]
  },
  {
   "cell_type": "code",
   "execution_count": 30,
   "metadata": {},
   "outputs": [
    {
     "data": {
      "text/plain": [
       "True"
      ]
     },
     "execution_count": 30,
     "metadata": {},
     "output_type": "execute_result"
    }
   ],
   "source": [
    "'''\n",
    "So, lets extend all the items that are not highest_unit_time worth of info, backwards in time,\n",
    "so that the items that do not have as many as highest_unit_time, now have highest_unit_time\n",
    "amount of info, with the time stamp, but just 0, 0 for those days.\n",
    "\n",
    "To do that, we can call the balance method of the Market object, giving it the \n",
    "longest time span of unix times, and 0, 0 as the default amount sold and price\n",
    "'''\n",
    "market.balance_as_is(0, 0)\n",
    "market.is_balanced()"
   ]
  },
  {
   "cell_type": "code",
   "execution_count": 36,
   "metadata": {},
   "outputs": [
    {
     "data": {
      "text/plain": [
       "'\\nNow we have a balanced market and want to include updates into a matrix in this form:\\n        | unix_time_0                                                                                                    | unix_time_1                                                                                                    | unix_time_m \\n________| amount_sold_0 | price_0 | update_unix_time_0_feat1 | update_unix_time_0_feat2 | ... | update_unix_time_0_featk | amount_sold_1 | price_1 | update_unix_time_1_feat1 | update_unix_time_1_feat2 | ... | update_unix_time_1_featk | ... | amount_sold_m | price_m | update_unix_time_m_feat1 | update_unix_time_m_feat2 | ... | update_unix_time_m_featk |\\nitem_1  |               |         |                          |                          | ... |                          |               |         |                          |                          | ... |                          \\nitem_2  |\\n.\\n.\\n.\\nitem_n  |\\n'"
      ]
     },
     "execution_count": 36,
     "metadata": {},
     "output_type": "execute_result"
    }
   ],
   "source": [
    "'''\n",
    "Now we have a balanced market and want to include updates into a matrix in the below form.\n",
    "Notice how it is essentially m matrices, where each matrix represents a unit of time,\n",
    "appended onto one another from left to right, and is n rows by k+2 cols\n",
    "        | unix_time_0                                                                                                       | unix_time_1                                                                                                       |     | unix_time_m \n",
    "________| amount_sold_0 | price_0 | update_unix_time_0_feat_1 | update_unix_time_0_feat_2 | ... | update_unix_time_0_feat_k | amount_sold_1 | price_1 | update_unix_time_1_feat_1 | update_unix_time_1_feat_2 | ... | update_unix_time_1_feat_k | ... | amount_sold_m | price_m | update_unix_time_m_feat_1 | update_unix_time_m_feat_2 | ... | update_unix_time_m_feat_k |\n",
    "item_1  |               |         |                           |                           | ... |                           |               |         |                           |                           | ... |                           | ... |               |         |                           |                           | ... |                           |\n",
    "item_2  |               |         |                           |                           | ... |                           |               |         |                           |                           | ... |                           | ... |               |         |                           |                           | ... |                           |\n",
    ".       |       .           .                   .                       .                   ...               .                    .             .                .                            .                ...               .                           .           .                  .                           .                ...               .             | \n",
    ".       |       .           .                   .                       .                   ...               .                    .             .                .                            .                ...               .                           .           .                  .                           .                ...               .             | \n",
    ".       |       .           .                   .                       .                   ...               .                    .             .                .                            .                ...               .                           .           .                  .                           .                ...               .             | \n",
    "item_n  |               |         |                           |                           | ... |                           |               |         |                           |                           | ... |                           |     |               |         |                           |                           | ... |                           |\n",
    "---------------------------------------------------------------------------------------------------------------------------------------------------------------------------------------------------------------------------------------------------------------------------------------------------------------------------------------------------------------------------\n",
    "\n",
    "Alot of them will be zeros.\n",
    "There will be zeros for\n",
    "    update_unix_time_i_feat_j for all j when there was no update for unix_time_i.\n",
    "    an item's amount_sold_i and price_i when that item was not being sold for unix_time_i.\n",
    "'''\n"
   ]
  },
  {
   "cell_type": "code",
   "execution_count": null,
   "metadata": {},
   "outputs": [],
   "source": []
  }
 ],
 "metadata": {
  "kernelspec": {
   "display_name": "Python 3.9.13 ('567FP')",
   "language": "python",
   "name": "python3"
  },
  "language_info": {
   "codemirror_mode": {
    "name": "ipython",
    "version": 3
   },
   "file_extension": ".py",
   "mimetype": "text/x-python",
   "name": "python",
   "nbconvert_exporter": "python",
   "pygments_lexer": "ipython3",
   "version": "3.9.13"
  },
  "orig_nbformat": 4,
  "vscode": {
   "interpreter": {
    "hash": "f8737e8cb70a0f7f021fa9834a2ae2129f817e796f624513bd53dcfd8a7bc265"
   }
  }
 },
 "nbformat": 4,
 "nbformat_minor": 2
}
