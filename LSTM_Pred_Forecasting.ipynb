{
 "cells": [
  {
   "cell_type": "code",
   "execution_count": 1,
   "id": "8ff51a56",
   "metadata": {},
   "outputs": [],
   "source": [
    "# import json\n",
    "# import pandas as pd\n",
    "# with open('all000a.json') as f:\n",
    "#    data = json.load(f)\n",
    "\n",
    "#print(data)"
   ]
  },
  {
   "cell_type": "code",
   "execution_count": 2,
   "id": "1f8e6b64",
   "metadata": {},
   "outputs": [],
   "source": [
    "import pandas as pd\n",
    "import numpy as np\n",
    "import matplotlib.pyplot as plt"
   ]
  },
  {
   "cell_type": "code",
   "execution_count": 3,
   "id": "eef7ad56",
   "metadata": {},
   "outputs": [],
   "source": [
    "df = pd.read_json('all000a.json')"
   ]
  },
  {
   "cell_type": "code",
   "execution_count": 4,
   "id": "f63c9ba6",
   "metadata": {},
   "outputs": [],
   "source": [
    "#renaming the column to make it accessible\n",
    "df.columns = ['Item2472']"
   ]
  },
  {
   "cell_type": "code",
   "execution_count": 5,
   "id": "14940ee1",
   "metadata": {},
   "outputs": [],
   "source": [
    "#df_complete = df[df['Item2472'].map(len) == 3]"
   ]
  },
  {
   "cell_type": "code",
   "execution_count": 6,
   "id": "0a73ae6a",
   "metadata": {},
   "outputs": [],
   "source": [
    "#df_incomplete = df[df['Item2472'].map(len) == 2]"
   ]
  },
  {
   "cell_type": "code",
   "execution_count": 7,
   "id": "59733163",
   "metadata": {},
   "outputs": [],
   "source": [
    "df = pd.concat([df,df['Item2472'].apply(pd.Series)],axis=1)"
   ]
  },
  {
   "cell_type": "code",
   "execution_count": 8,
   "id": "ea6334b7",
   "metadata": {},
   "outputs": [],
   "source": [
    "df.columns = ['Item2472','Date','Price', 'AmountSold']"
   ]
  },
  {
   "cell_type": "code",
   "execution_count": 9,
   "id": "ab3af506",
   "metadata": {},
   "outputs": [
    {
     "data": {
      "text/html": [
       "<div>\n",
       "<style scoped>\n",
       "    .dataframe tbody tr th:only-of-type {\n",
       "        vertical-align: middle;\n",
       "    }\n",
       "\n",
       "    .dataframe tbody tr th {\n",
       "        vertical-align: top;\n",
       "    }\n",
       "\n",
       "    .dataframe thead th {\n",
       "        text-align: right;\n",
       "    }\n",
       "</style>\n",
       "<table border=\"1\" class=\"dataframe\">\n",
       "  <thead>\n",
       "    <tr style=\"text-align: right;\">\n",
       "      <th></th>\n",
       "      <th>Item2472</th>\n",
       "      <th>Date</th>\n",
       "      <th>Price</th>\n",
       "      <th>AmountSold</th>\n",
       "    </tr>\n",
       "  </thead>\n",
       "  <tbody>\n",
       "    <tr>\n",
       "      <th>0</th>\n",
       "      <td>[1425600000000, 1863]</td>\n",
       "      <td>1.425600e+12</td>\n",
       "      <td>1863.0</td>\n",
       "      <td>NaN</td>\n",
       "    </tr>\n",
       "    <tr>\n",
       "      <th>1</th>\n",
       "      <td>[1425686400000, 1863]</td>\n",
       "      <td>1.425686e+12</td>\n",
       "      <td>1863.0</td>\n",
       "      <td>NaN</td>\n",
       "    </tr>\n",
       "    <tr>\n",
       "      <th>2</th>\n",
       "      <td>[1425772800000, 1863]</td>\n",
       "      <td>1.425773e+12</td>\n",
       "      <td>1863.0</td>\n",
       "      <td>NaN</td>\n",
       "    </tr>\n",
       "    <tr>\n",
       "      <th>3</th>\n",
       "      <td>[1425859200000, 1773]</td>\n",
       "      <td>1.425859e+12</td>\n",
       "      <td>1773.0</td>\n",
       "      <td>NaN</td>\n",
       "    </tr>\n",
       "    <tr>\n",
       "      <th>4</th>\n",
       "      <td>[1425945600000, 1773]</td>\n",
       "      <td>1.425946e+12</td>\n",
       "      <td>1773.0</td>\n",
       "      <td>NaN</td>\n",
       "    </tr>\n",
       "    <tr>\n",
       "      <th>...</th>\n",
       "      <td>...</td>\n",
       "      <td>...</td>\n",
       "      <td>...</td>\n",
       "      <td>...</td>\n",
       "    </tr>\n",
       "    <tr>\n",
       "      <th>2670</th>\n",
       "      <td>[1664323200000, 85, 136]</td>\n",
       "      <td>1.664323e+12</td>\n",
       "      <td>85.0</td>\n",
       "      <td>136.0</td>\n",
       "    </tr>\n",
       "    <tr>\n",
       "      <th>2671</th>\n",
       "      <td>[1664409600000, 85, 801]</td>\n",
       "      <td>1.664410e+12</td>\n",
       "      <td>85.0</td>\n",
       "      <td>801.0</td>\n",
       "    </tr>\n",
       "    <tr>\n",
       "      <th>2672</th>\n",
       "      <td>[1664496000000, 85, 279]</td>\n",
       "      <td>1.664496e+12</td>\n",
       "      <td>85.0</td>\n",
       "      <td>279.0</td>\n",
       "    </tr>\n",
       "    <tr>\n",
       "      <th>2673</th>\n",
       "      <td>[1664582400000, 85, 650]</td>\n",
       "      <td>1.664582e+12</td>\n",
       "      <td>85.0</td>\n",
       "      <td>650.0</td>\n",
       "    </tr>\n",
       "    <tr>\n",
       "      <th>2674</th>\n",
       "      <td>[1664668800000, 85]</td>\n",
       "      <td>1.664669e+12</td>\n",
       "      <td>85.0</td>\n",
       "      <td>NaN</td>\n",
       "    </tr>\n",
       "  </tbody>\n",
       "</table>\n",
       "<p>2675 rows × 4 columns</p>\n",
       "</div>"
      ],
      "text/plain": [
       "                      Item2472          Date   Price  AmountSold\n",
       "0        [1425600000000, 1863]  1.425600e+12  1863.0         NaN\n",
       "1        [1425686400000, 1863]  1.425686e+12  1863.0         NaN\n",
       "2        [1425772800000, 1863]  1.425773e+12  1863.0         NaN\n",
       "3        [1425859200000, 1773]  1.425859e+12  1773.0         NaN\n",
       "4        [1425945600000, 1773]  1.425946e+12  1773.0         NaN\n",
       "...                        ...           ...     ...         ...\n",
       "2670  [1664323200000, 85, 136]  1.664323e+12    85.0       136.0\n",
       "2671  [1664409600000, 85, 801]  1.664410e+12    85.0       801.0\n",
       "2672  [1664496000000, 85, 279]  1.664496e+12    85.0       279.0\n",
       "2673  [1664582400000, 85, 650]  1.664582e+12    85.0       650.0\n",
       "2674       [1664668800000, 85]  1.664669e+12    85.0         NaN\n",
       "\n",
       "[2675 rows x 4 columns]"
      ]
     },
     "execution_count": 9,
     "metadata": {},
     "output_type": "execute_result"
    }
   ],
   "source": [
    "df"
   ]
  },
  {
   "cell_type": "code",
   "execution_count": 10,
   "id": "b8709055",
   "metadata": {},
   "outputs": [],
   "source": [
    "#Change timestamp into real date\n",
    "from datetime import datetime\n",
    "df['Date'] = pd.to_datetime(df['Date'], unit = 'ms')"
   ]
  },
  {
   "cell_type": "code",
   "execution_count": 11,
   "id": "79e8e04a",
   "metadata": {},
   "outputs": [
    {
     "data": {
      "text/html": [
       "<div>\n",
       "<style scoped>\n",
       "    .dataframe tbody tr th:only-of-type {\n",
       "        vertical-align: middle;\n",
       "    }\n",
       "\n",
       "    .dataframe tbody tr th {\n",
       "        vertical-align: top;\n",
       "    }\n",
       "\n",
       "    .dataframe thead th {\n",
       "        text-align: right;\n",
       "    }\n",
       "</style>\n",
       "<table border=\"1\" class=\"dataframe\">\n",
       "  <thead>\n",
       "    <tr style=\"text-align: right;\">\n",
       "      <th></th>\n",
       "      <th>Item2472</th>\n",
       "      <th>Date</th>\n",
       "      <th>Price</th>\n",
       "      <th>AmountSold</th>\n",
       "    </tr>\n",
       "  </thead>\n",
       "  <tbody>\n",
       "    <tr>\n",
       "      <th>0</th>\n",
       "      <td>[1425600000000, 1863]</td>\n",
       "      <td>2015-03-06</td>\n",
       "      <td>1863.0</td>\n",
       "      <td>NaN</td>\n",
       "    </tr>\n",
       "    <tr>\n",
       "      <th>1</th>\n",
       "      <td>[1425686400000, 1863]</td>\n",
       "      <td>2015-03-07</td>\n",
       "      <td>1863.0</td>\n",
       "      <td>NaN</td>\n",
       "    </tr>\n",
       "    <tr>\n",
       "      <th>2</th>\n",
       "      <td>[1425772800000, 1863]</td>\n",
       "      <td>2015-03-08</td>\n",
       "      <td>1863.0</td>\n",
       "      <td>NaN</td>\n",
       "    </tr>\n",
       "    <tr>\n",
       "      <th>3</th>\n",
       "      <td>[1425859200000, 1773]</td>\n",
       "      <td>2015-03-09</td>\n",
       "      <td>1773.0</td>\n",
       "      <td>NaN</td>\n",
       "    </tr>\n",
       "    <tr>\n",
       "      <th>4</th>\n",
       "      <td>[1425945600000, 1773]</td>\n",
       "      <td>2015-03-10</td>\n",
       "      <td>1773.0</td>\n",
       "      <td>NaN</td>\n",
       "    </tr>\n",
       "    <tr>\n",
       "      <th>...</th>\n",
       "      <td>...</td>\n",
       "      <td>...</td>\n",
       "      <td>...</td>\n",
       "      <td>...</td>\n",
       "    </tr>\n",
       "    <tr>\n",
       "      <th>2670</th>\n",
       "      <td>[1664323200000, 85, 136]</td>\n",
       "      <td>2022-09-28</td>\n",
       "      <td>85.0</td>\n",
       "      <td>136.0</td>\n",
       "    </tr>\n",
       "    <tr>\n",
       "      <th>2671</th>\n",
       "      <td>[1664409600000, 85, 801]</td>\n",
       "      <td>2022-09-29</td>\n",
       "      <td>85.0</td>\n",
       "      <td>801.0</td>\n",
       "    </tr>\n",
       "    <tr>\n",
       "      <th>2672</th>\n",
       "      <td>[1664496000000, 85, 279]</td>\n",
       "      <td>2022-09-30</td>\n",
       "      <td>85.0</td>\n",
       "      <td>279.0</td>\n",
       "    </tr>\n",
       "    <tr>\n",
       "      <th>2673</th>\n",
       "      <td>[1664582400000, 85, 650]</td>\n",
       "      <td>2022-10-01</td>\n",
       "      <td>85.0</td>\n",
       "      <td>650.0</td>\n",
       "    </tr>\n",
       "    <tr>\n",
       "      <th>2674</th>\n",
       "      <td>[1664668800000, 85]</td>\n",
       "      <td>2022-10-02</td>\n",
       "      <td>85.0</td>\n",
       "      <td>NaN</td>\n",
       "    </tr>\n",
       "  </tbody>\n",
       "</table>\n",
       "<p>2675 rows × 4 columns</p>\n",
       "</div>"
      ],
      "text/plain": [
       "                      Item2472       Date   Price  AmountSold\n",
       "0        [1425600000000, 1863] 2015-03-06  1863.0         NaN\n",
       "1        [1425686400000, 1863] 2015-03-07  1863.0         NaN\n",
       "2        [1425772800000, 1863] 2015-03-08  1863.0         NaN\n",
       "3        [1425859200000, 1773] 2015-03-09  1773.0         NaN\n",
       "4        [1425945600000, 1773] 2015-03-10  1773.0         NaN\n",
       "...                        ...        ...     ...         ...\n",
       "2670  [1664323200000, 85, 136] 2022-09-28    85.0       136.0\n",
       "2671  [1664409600000, 85, 801] 2022-09-29    85.0       801.0\n",
       "2672  [1664496000000, 85, 279] 2022-09-30    85.0       279.0\n",
       "2673  [1664582400000, 85, 650] 2022-10-01    85.0       650.0\n",
       "2674       [1664668800000, 85] 2022-10-02    85.0         NaN\n",
       "\n",
       "[2675 rows x 4 columns]"
      ]
     },
     "execution_count": 11,
     "metadata": {},
     "output_type": "execute_result"
    }
   ],
   "source": [
    "df"
   ]
  },
  {
   "cell_type": "code",
   "execution_count": 12,
   "id": "602c5200",
   "metadata": {},
   "outputs": [],
   "source": [
    "# df_null = df[df['Amount Sold'].isna()]"
   ]
  },
  {
   "cell_type": "code",
   "execution_count": 13,
   "id": "149e6f1f",
   "metadata": {},
   "outputs": [],
   "source": [
    "#https://stackoverflow.com/questions/64745344/reverse-rows-in-time-series-dataframe\n",
    "df_reverse = df.iloc[::-1]"
   ]
  },
  {
   "cell_type": "code",
   "execution_count": 14,
   "id": "894f718e",
   "metadata": {},
   "outputs": [],
   "source": [
    "#Pick date from 2019-Present\n",
    "df_reverse = df_reverse[(df_reverse['Date'] >='2019-01-01')]"
   ]
  },
  {
   "cell_type": "code",
   "execution_count": 15,
   "id": "026abef3",
   "metadata": {},
   "outputs": [
    {
     "data": {
      "text/html": [
       "<div>\n",
       "<style scoped>\n",
       "    .dataframe tbody tr th:only-of-type {\n",
       "        vertical-align: middle;\n",
       "    }\n",
       "\n",
       "    .dataframe tbody tr th {\n",
       "        vertical-align: top;\n",
       "    }\n",
       "\n",
       "    .dataframe thead th {\n",
       "        text-align: right;\n",
       "    }\n",
       "</style>\n",
       "<table border=\"1\" class=\"dataframe\">\n",
       "  <thead>\n",
       "    <tr style=\"text-align: right;\">\n",
       "      <th></th>\n",
       "      <th>Item2472</th>\n",
       "      <th>Date</th>\n",
       "      <th>Price</th>\n",
       "      <th>AmountSold</th>\n",
       "    </tr>\n",
       "  </thead>\n",
       "  <tbody>\n",
       "    <tr>\n",
       "      <th>2674</th>\n",
       "      <td>[1664668800000, 85]</td>\n",
       "      <td>2022-10-02</td>\n",
       "      <td>85.0</td>\n",
       "      <td>NaN</td>\n",
       "    </tr>\n",
       "    <tr>\n",
       "      <th>2673</th>\n",
       "      <td>[1664582400000, 85, 650]</td>\n",
       "      <td>2022-10-01</td>\n",
       "      <td>85.0</td>\n",
       "      <td>650.0</td>\n",
       "    </tr>\n",
       "    <tr>\n",
       "      <th>2672</th>\n",
       "      <td>[1664496000000, 85, 279]</td>\n",
       "      <td>2022-09-30</td>\n",
       "      <td>85.0</td>\n",
       "      <td>279.0</td>\n",
       "    </tr>\n",
       "    <tr>\n",
       "      <th>2671</th>\n",
       "      <td>[1664409600000, 85, 801]</td>\n",
       "      <td>2022-09-29</td>\n",
       "      <td>85.0</td>\n",
       "      <td>801.0</td>\n",
       "    </tr>\n",
       "    <tr>\n",
       "      <th>2670</th>\n",
       "      <td>[1664323200000, 85, 136]</td>\n",
       "      <td>2022-09-28</td>\n",
       "      <td>85.0</td>\n",
       "      <td>136.0</td>\n",
       "    </tr>\n",
       "    <tr>\n",
       "      <th>...</th>\n",
       "      <td>...</td>\n",
       "      <td>...</td>\n",
       "      <td>...</td>\n",
       "      <td>...</td>\n",
       "    </tr>\n",
       "    <tr>\n",
       "      <th>1310</th>\n",
       "      <td>[1546646400000, 19, 2108]</td>\n",
       "      <td>2019-01-05</td>\n",
       "      <td>19.0</td>\n",
       "      <td>2108.0</td>\n",
       "    </tr>\n",
       "    <tr>\n",
       "      <th>1309</th>\n",
       "      <td>[1546560000000, 19, 1768]</td>\n",
       "      <td>2019-01-04</td>\n",
       "      <td>19.0</td>\n",
       "      <td>1768.0</td>\n",
       "    </tr>\n",
       "    <tr>\n",
       "      <th>1308</th>\n",
       "      <td>[1546473600000, 19, 2228]</td>\n",
       "      <td>2019-01-03</td>\n",
       "      <td>19.0</td>\n",
       "      <td>2228.0</td>\n",
       "    </tr>\n",
       "    <tr>\n",
       "      <th>1307</th>\n",
       "      <td>[1546387200000, 19, 1809]</td>\n",
       "      <td>2019-01-02</td>\n",
       "      <td>19.0</td>\n",
       "      <td>1809.0</td>\n",
       "    </tr>\n",
       "    <tr>\n",
       "      <th>1306</th>\n",
       "      <td>[1546300800000, 19, 1295]</td>\n",
       "      <td>2019-01-01</td>\n",
       "      <td>19.0</td>\n",
       "      <td>1295.0</td>\n",
       "    </tr>\n",
       "  </tbody>\n",
       "</table>\n",
       "<p>1369 rows × 4 columns</p>\n",
       "</div>"
      ],
      "text/plain": [
       "                       Item2472       Date  Price  AmountSold\n",
       "2674        [1664668800000, 85] 2022-10-02   85.0         NaN\n",
       "2673   [1664582400000, 85, 650] 2022-10-01   85.0       650.0\n",
       "2672   [1664496000000, 85, 279] 2022-09-30   85.0       279.0\n",
       "2671   [1664409600000, 85, 801] 2022-09-29   85.0       801.0\n",
       "2670   [1664323200000, 85, 136] 2022-09-28   85.0       136.0\n",
       "...                         ...        ...    ...         ...\n",
       "1310  [1546646400000, 19, 2108] 2019-01-05   19.0      2108.0\n",
       "1309  [1546560000000, 19, 1768] 2019-01-04   19.0      1768.0\n",
       "1308  [1546473600000, 19, 2228] 2019-01-03   19.0      2228.0\n",
       "1307  [1546387200000, 19, 1809] 2019-01-02   19.0      1809.0\n",
       "1306  [1546300800000, 19, 1295] 2019-01-01   19.0      1295.0\n",
       "\n",
       "[1369 rows x 4 columns]"
      ]
     },
     "execution_count": 15,
     "metadata": {},
     "output_type": "execute_result"
    }
   ],
   "source": [
    "df_reverse"
   ]
  },
  {
   "cell_type": "code",
   "execution_count": 16,
   "id": "bf110724",
   "metadata": {},
   "outputs": [],
   "source": [
    "df_reverse['Date'] = pd.to_datetime(df_reverse['Date'])"
   ]
  },
  {
   "cell_type": "code",
   "execution_count": 17,
   "id": "245276d2",
   "metadata": {},
   "outputs": [],
   "source": [
    "#df_threecolumns_reverse.set_index('Date')"
   ]
  },
  {
   "cell_type": "code",
   "execution_count": 18,
   "id": "34d02dd9",
   "metadata": {},
   "outputs": [
    {
     "data": {
      "text/html": [
       "<div>\n",
       "<style scoped>\n",
       "    .dataframe tbody tr th:only-of-type {\n",
       "        vertical-align: middle;\n",
       "    }\n",
       "\n",
       "    .dataframe tbody tr th {\n",
       "        vertical-align: top;\n",
       "    }\n",
       "\n",
       "    .dataframe thead th {\n",
       "        text-align: right;\n",
       "    }\n",
       "</style>\n",
       "<table border=\"1\" class=\"dataframe\">\n",
       "  <thead>\n",
       "    <tr style=\"text-align: right;\">\n",
       "      <th></th>\n",
       "      <th>Item2472</th>\n",
       "      <th>Price</th>\n",
       "      <th>AmountSold</th>\n",
       "    </tr>\n",
       "    <tr>\n",
       "      <th>Date</th>\n",
       "      <th></th>\n",
       "      <th></th>\n",
       "      <th></th>\n",
       "    </tr>\n",
       "  </thead>\n",
       "  <tbody>\n",
       "    <tr>\n",
       "      <th>2022-10-02</th>\n",
       "      <td>[1664668800000, 85]</td>\n",
       "      <td>85.0</td>\n",
       "      <td>NaN</td>\n",
       "    </tr>\n",
       "    <tr>\n",
       "      <th>2022-10-01</th>\n",
       "      <td>[1664582400000, 85, 650]</td>\n",
       "      <td>85.0</td>\n",
       "      <td>650.0</td>\n",
       "    </tr>\n",
       "    <tr>\n",
       "      <th>2022-09-30</th>\n",
       "      <td>[1664496000000, 85, 279]</td>\n",
       "      <td>85.0</td>\n",
       "      <td>279.0</td>\n",
       "    </tr>\n",
       "    <tr>\n",
       "      <th>2022-09-29</th>\n",
       "      <td>[1664409600000, 85, 801]</td>\n",
       "      <td>85.0</td>\n",
       "      <td>801.0</td>\n",
       "    </tr>\n",
       "    <tr>\n",
       "      <th>2022-09-28</th>\n",
       "      <td>[1664323200000, 85, 136]</td>\n",
       "      <td>85.0</td>\n",
       "      <td>136.0</td>\n",
       "    </tr>\n",
       "    <tr>\n",
       "      <th>...</th>\n",
       "      <td>...</td>\n",
       "      <td>...</td>\n",
       "      <td>...</td>\n",
       "    </tr>\n",
       "    <tr>\n",
       "      <th>2019-01-05</th>\n",
       "      <td>[1546646400000, 19, 2108]</td>\n",
       "      <td>19.0</td>\n",
       "      <td>2108.0</td>\n",
       "    </tr>\n",
       "    <tr>\n",
       "      <th>2019-01-04</th>\n",
       "      <td>[1546560000000, 19, 1768]</td>\n",
       "      <td>19.0</td>\n",
       "      <td>1768.0</td>\n",
       "    </tr>\n",
       "    <tr>\n",
       "      <th>2019-01-03</th>\n",
       "      <td>[1546473600000, 19, 2228]</td>\n",
       "      <td>19.0</td>\n",
       "      <td>2228.0</td>\n",
       "    </tr>\n",
       "    <tr>\n",
       "      <th>2019-01-02</th>\n",
       "      <td>[1546387200000, 19, 1809]</td>\n",
       "      <td>19.0</td>\n",
       "      <td>1809.0</td>\n",
       "    </tr>\n",
       "    <tr>\n",
       "      <th>2019-01-01</th>\n",
       "      <td>[1546300800000, 19, 1295]</td>\n",
       "      <td>19.0</td>\n",
       "      <td>1295.0</td>\n",
       "    </tr>\n",
       "  </tbody>\n",
       "</table>\n",
       "<p>1369 rows × 3 columns</p>\n",
       "</div>"
      ],
      "text/plain": [
       "                             Item2472  Price  AmountSold\n",
       "Date                                                    \n",
       "2022-10-02        [1664668800000, 85]   85.0         NaN\n",
       "2022-10-01   [1664582400000, 85, 650]   85.0       650.0\n",
       "2022-09-30   [1664496000000, 85, 279]   85.0       279.0\n",
       "2022-09-29   [1664409600000, 85, 801]   85.0       801.0\n",
       "2022-09-28   [1664323200000, 85, 136]   85.0       136.0\n",
       "...                               ...    ...         ...\n",
       "2019-01-05  [1546646400000, 19, 2108]   19.0      2108.0\n",
       "2019-01-04  [1546560000000, 19, 1768]   19.0      1768.0\n",
       "2019-01-03  [1546473600000, 19, 2228]   19.0      2228.0\n",
       "2019-01-02  [1546387200000, 19, 1809]   19.0      1809.0\n",
       "2019-01-01  [1546300800000, 19, 1295]   19.0      1295.0\n",
       "\n",
       "[1369 rows x 3 columns]"
      ]
     },
     "execution_count": 18,
     "metadata": {},
     "output_type": "execute_result"
    }
   ],
   "source": [
    "tdi = pd.DatetimeIndex(df_reverse.Date)\n",
    "df_reverse.set_index(tdi, inplace=True)\n",
    "df_reverse.drop(columns='Date', inplace=True)\n",
    "df_reverse.index.name = 'Date'\n",
    "df_reverse"
   ]
  },
  {
   "cell_type": "code",
   "execution_count": 19,
   "id": "2166c770",
   "metadata": {},
   "outputs": [],
   "source": [
    " df_reverse = df_reverse.drop(['Item2472', 'Price'], axis=1)"
   ]
  },
  {
   "cell_type": "code",
   "execution_count": 20,
   "id": "8c13e864",
   "metadata": {},
   "outputs": [
    {
     "data": {
      "text/html": [
       "<div>\n",
       "<style scoped>\n",
       "    .dataframe tbody tr th:only-of-type {\n",
       "        vertical-align: middle;\n",
       "    }\n",
       "\n",
       "    .dataframe tbody tr th {\n",
       "        vertical-align: top;\n",
       "    }\n",
       "\n",
       "    .dataframe thead th {\n",
       "        text-align: right;\n",
       "    }\n",
       "</style>\n",
       "<table border=\"1\" class=\"dataframe\">\n",
       "  <thead>\n",
       "    <tr style=\"text-align: right;\">\n",
       "      <th></th>\n",
       "      <th>AmountSold</th>\n",
       "    </tr>\n",
       "    <tr>\n",
       "      <th>Date</th>\n",
       "      <th></th>\n",
       "    </tr>\n",
       "  </thead>\n",
       "  <tbody>\n",
       "    <tr>\n",
       "      <th>2022-10-02</th>\n",
       "      <td>NaN</td>\n",
       "    </tr>\n",
       "    <tr>\n",
       "      <th>2022-10-01</th>\n",
       "      <td>650.0</td>\n",
       "    </tr>\n",
       "    <tr>\n",
       "      <th>2022-09-30</th>\n",
       "      <td>279.0</td>\n",
       "    </tr>\n",
       "    <tr>\n",
       "      <th>2022-09-29</th>\n",
       "      <td>801.0</td>\n",
       "    </tr>\n",
       "    <tr>\n",
       "      <th>2022-09-28</th>\n",
       "      <td>136.0</td>\n",
       "    </tr>\n",
       "    <tr>\n",
       "      <th>...</th>\n",
       "      <td>...</td>\n",
       "    </tr>\n",
       "    <tr>\n",
       "      <th>2019-01-05</th>\n",
       "      <td>2108.0</td>\n",
       "    </tr>\n",
       "    <tr>\n",
       "      <th>2019-01-04</th>\n",
       "      <td>1768.0</td>\n",
       "    </tr>\n",
       "    <tr>\n",
       "      <th>2019-01-03</th>\n",
       "      <td>2228.0</td>\n",
       "    </tr>\n",
       "    <tr>\n",
       "      <th>2019-01-02</th>\n",
       "      <td>1809.0</td>\n",
       "    </tr>\n",
       "    <tr>\n",
       "      <th>2019-01-01</th>\n",
       "      <td>1295.0</td>\n",
       "    </tr>\n",
       "  </tbody>\n",
       "</table>\n",
       "<p>1369 rows × 1 columns</p>\n",
       "</div>"
      ],
      "text/plain": [
       "            AmountSold\n",
       "Date                  \n",
       "2022-10-02         NaN\n",
       "2022-10-01       650.0\n",
       "2022-09-30       279.0\n",
       "2022-09-29       801.0\n",
       "2022-09-28       136.0\n",
       "...                ...\n",
       "2019-01-05      2108.0\n",
       "2019-01-04      1768.0\n",
       "2019-01-03      2228.0\n",
       "2019-01-02      1809.0\n",
       "2019-01-01      1295.0\n",
       "\n",
       "[1369 rows x 1 columns]"
      ]
     },
     "execution_count": 20,
     "metadata": {},
     "output_type": "execute_result"
    }
   ],
   "source": [
    "df_reverse"
   ]
  },
  {
   "cell_type": "code",
   "execution_count": 21,
   "id": "9fb18243",
   "metadata": {},
   "outputs": [],
   "source": [
    "#df_threecolumns_reverse = df_threecolumns_reverse.set_index('Date')"
   ]
  },
  {
   "cell_type": "code",
   "execution_count": 22,
   "id": "2d3f7906",
   "metadata": {},
   "outputs": [
    {
     "data": {
      "text/plain": [
       "<AxesSubplot:xlabel='Date'>"
      ]
     },
     "execution_count": 22,
     "metadata": {},
     "output_type": "execute_result"
    },
    {
     "data": {
      "image/png": "[encoded data removed]",
      "text/plain": [
       "<Figure size 864x432 with 1 Axes>"
      ]
     },
     "metadata": {
      "needs_background": "light"
     },
     "output_type": "display_data"
    }
   ],
   "source": [
    "df_reverse.plot(figsize=(12,6))"
   ]
  },
  {
   "cell_type": "code",
   "execution_count": 60,
   "id": "1f0a8e95",
   "metadata": {},
   "outputs": [],
   "source": [
    "# from statsmodels.tsa.seasonal import seasonal_decompose"
   ]
  },
  {
   "cell_type": "code",
   "execution_count": 61,
   "id": "348f9c99",
   "metadata": {},
   "outputs": [],
   "source": [
    "# results = seasonal_decompose(df_reverse['AmountSold'])\n",
    "# results.plot();"
   ]
  },
  {
   "cell_type": "code",
   "execution_count": 23,
   "id": "9da1b273",
   "metadata": {},
   "outputs": [
    {
     "data": {
      "text/plain": [
       "1369"
      ]
     },
     "execution_count": 23,
     "metadata": {},
     "output_type": "execute_result"
    }
   ],
   "source": [
    "len(df_reverse)"
   ]
  },
  {
   "cell_type": "code",
   "execution_count": 24,
   "id": "dbcebdb4",
   "metadata": {},
   "outputs": [
    {
     "data": {
      "text/html": [
       "<div>\n",
       "<style scoped>\n",
       "    .dataframe tbody tr th:only-of-type {\n",
       "        vertical-align: middle;\n",
       "    }\n",
       "\n",
       "    .dataframe tbody tr th {\n",
       "        vertical-align: top;\n",
       "    }\n",
       "\n",
       "    .dataframe thead th {\n",
       "        text-align: right;\n",
       "    }\n",
       "</style>\n",
       "<table border=\"1\" class=\"dataframe\">\n",
       "  <thead>\n",
       "    <tr style=\"text-align: right;\">\n",
       "      <th></th>\n",
       "      <th>AmountSold</th>\n",
       "    </tr>\n",
       "    <tr>\n",
       "      <th>Date</th>\n",
       "      <th></th>\n",
       "    </tr>\n",
       "  </thead>\n",
       "  <tbody>\n",
       "    <tr>\n",
       "      <th>2022-10-02</th>\n",
       "      <td>NaN</td>\n",
       "    </tr>\n",
       "    <tr>\n",
       "      <th>2022-10-01</th>\n",
       "      <td>650.0</td>\n",
       "    </tr>\n",
       "    <tr>\n",
       "      <th>2022-09-30</th>\n",
       "      <td>279.0</td>\n",
       "    </tr>\n",
       "    <tr>\n",
       "      <th>2022-09-29</th>\n",
       "      <td>801.0</td>\n",
       "    </tr>\n",
       "    <tr>\n",
       "      <th>2022-09-28</th>\n",
       "      <td>136.0</td>\n",
       "    </tr>\n",
       "    <tr>\n",
       "      <th>2022-09-27</th>\n",
       "      <td>325.0</td>\n",
       "    </tr>\n",
       "    <tr>\n",
       "      <th>2022-09-26</th>\n",
       "      <td>645.0</td>\n",
       "    </tr>\n",
       "    <tr>\n",
       "      <th>2022-09-25</th>\n",
       "      <td>468.0</td>\n",
       "    </tr>\n",
       "    <tr>\n",
       "      <th>2022-09-24</th>\n",
       "      <td>201.0</td>\n",
       "    </tr>\n",
       "    <tr>\n",
       "      <th>2022-09-23</th>\n",
       "      <td>361.0</td>\n",
       "    </tr>\n",
       "    <tr>\n",
       "      <th>2022-09-22</th>\n",
       "      <td>1836.0</td>\n",
       "    </tr>\n",
       "    <tr>\n",
       "      <th>2022-09-21</th>\n",
       "      <td>2341.0</td>\n",
       "    </tr>\n",
       "    <tr>\n",
       "      <th>2022-09-20</th>\n",
       "      <td>1310.0</td>\n",
       "    </tr>\n",
       "    <tr>\n",
       "      <th>2022-09-19</th>\n",
       "      <td>605.0</td>\n",
       "    </tr>\n",
       "    <tr>\n",
       "      <th>2022-09-18</th>\n",
       "      <td>1138.0</td>\n",
       "    </tr>\n",
       "    <tr>\n",
       "      <th>2022-09-17</th>\n",
       "      <td>225.0</td>\n",
       "    </tr>\n",
       "    <tr>\n",
       "      <th>2022-09-16</th>\n",
       "      <td>371.0</td>\n",
       "    </tr>\n",
       "    <tr>\n",
       "      <th>2022-09-15</th>\n",
       "      <td>1430.0</td>\n",
       "    </tr>\n",
       "    <tr>\n",
       "      <th>2022-09-14</th>\n",
       "      <td>1634.0</td>\n",
       "    </tr>\n",
       "    <tr>\n",
       "      <th>2022-09-13</th>\n",
       "      <td>1657.0</td>\n",
       "    </tr>\n",
       "    <tr>\n",
       "      <th>2022-09-12</th>\n",
       "      <td>2328.0</td>\n",
       "    </tr>\n",
       "    <tr>\n",
       "      <th>2022-09-11</th>\n",
       "      <td>1212.0</td>\n",
       "    </tr>\n",
       "    <tr>\n",
       "      <th>2022-09-10</th>\n",
       "      <td>837.0</td>\n",
       "    </tr>\n",
       "    <tr>\n",
       "      <th>2022-09-09</th>\n",
       "      <td>2056.0</td>\n",
       "    </tr>\n",
       "    <tr>\n",
       "      <th>2022-09-08</th>\n",
       "      <td>633.0</td>\n",
       "    </tr>\n",
       "    <tr>\n",
       "      <th>2022-09-07</th>\n",
       "      <td>775.0</td>\n",
       "    </tr>\n",
       "    <tr>\n",
       "      <th>2022-09-06</th>\n",
       "      <td>1420.0</td>\n",
       "    </tr>\n",
       "    <tr>\n",
       "      <th>2022-09-05</th>\n",
       "      <td>314.0</td>\n",
       "    </tr>\n",
       "    <tr>\n",
       "      <th>2022-09-04</th>\n",
       "      <td>974.0</td>\n",
       "    </tr>\n",
       "    <tr>\n",
       "      <th>2022-09-03</th>\n",
       "      <td>352.0</td>\n",
       "    </tr>\n",
       "  </tbody>\n",
       "</table>\n",
       "</div>"
      ],
      "text/plain": [
       "            AmountSold\n",
       "Date                  \n",
       "2022-10-02         NaN\n",
       "2022-10-01       650.0\n",
       "2022-09-30       279.0\n",
       "2022-09-29       801.0\n",
       "2022-09-28       136.0\n",
       "2022-09-27       325.0\n",
       "2022-09-26       645.0\n",
       "2022-09-25       468.0\n",
       "2022-09-24       201.0\n",
       "2022-09-23       361.0\n",
       "2022-09-22      1836.0\n",
       "2022-09-21      2341.0\n",
       "2022-09-20      1310.0\n",
       "2022-09-19       605.0\n",
       "2022-09-18      1138.0\n",
       "2022-09-17       225.0\n",
       "2022-09-16       371.0\n",
       "2022-09-15      1430.0\n",
       "2022-09-14      1634.0\n",
       "2022-09-13      1657.0\n",
       "2022-09-12      2328.0\n",
       "2022-09-11      1212.0\n",
       "2022-09-10       837.0\n",
       "2022-09-09      2056.0\n",
       "2022-09-08       633.0\n",
       "2022-09-07       775.0\n",
       "2022-09-06      1420.0\n",
       "2022-09-05       314.0\n",
       "2022-09-04       974.0\n",
       "2022-09-03       352.0"
      ]
     },
     "execution_count": 24,
     "metadata": {},
     "output_type": "execute_result"
    }
   ],
   "source": [
    "df_reverse.head(30)"
   ]
  },
  {
   "cell_type": "code",
   "execution_count": 25,
   "id": "5ce3973a",
   "metadata": {},
   "outputs": [
    {
     "data": {
      "text/html": [
       "<div>\n",
       "<style scoped>\n",
       "    .dataframe tbody tr th:only-of-type {\n",
       "        vertical-align: middle;\n",
       "    }\n",
       "\n",
       "    .dataframe tbody tr th {\n",
       "        vertical-align: top;\n",
       "    }\n",
       "\n",
       "    .dataframe thead th {\n",
       "        text-align: right;\n",
       "    }\n",
       "</style>\n",
       "<table border=\"1\" class=\"dataframe\">\n",
       "  <thead>\n",
       "    <tr style=\"text-align: right;\">\n",
       "      <th></th>\n",
       "      <th>AmountSold</th>\n",
       "    </tr>\n",
       "    <tr>\n",
       "      <th>Date</th>\n",
       "      <th></th>\n",
       "    </tr>\n",
       "  </thead>\n",
       "  <tbody>\n",
       "    <tr>\n",
       "      <th>2022-10-02</th>\n",
       "      <td>NaN</td>\n",
       "    </tr>\n",
       "    <tr>\n",
       "      <th>2022-10-01</th>\n",
       "      <td>650.0</td>\n",
       "    </tr>\n",
       "    <tr>\n",
       "      <th>2022-09-30</th>\n",
       "      <td>279.0</td>\n",
       "    </tr>\n",
       "    <tr>\n",
       "      <th>2022-09-29</th>\n",
       "      <td>801.0</td>\n",
       "    </tr>\n",
       "    <tr>\n",
       "      <th>2022-09-28</th>\n",
       "      <td>136.0</td>\n",
       "    </tr>\n",
       "    <tr>\n",
       "      <th>...</th>\n",
       "      <td>...</td>\n",
       "    </tr>\n",
       "    <tr>\n",
       "      <th>2019-01-05</th>\n",
       "      <td>2108.0</td>\n",
       "    </tr>\n",
       "    <tr>\n",
       "      <th>2019-01-04</th>\n",
       "      <td>1768.0</td>\n",
       "    </tr>\n",
       "    <tr>\n",
       "      <th>2019-01-03</th>\n",
       "      <td>2228.0</td>\n",
       "    </tr>\n",
       "    <tr>\n",
       "      <th>2019-01-02</th>\n",
       "      <td>1809.0</td>\n",
       "    </tr>\n",
       "    <tr>\n",
       "      <th>2019-01-01</th>\n",
       "      <td>1295.0</td>\n",
       "    </tr>\n",
       "  </tbody>\n",
       "</table>\n",
       "<p>1369 rows × 1 columns</p>\n",
       "</div>"
      ],
      "text/plain": [
       "            AmountSold\n",
       "Date                  \n",
       "2022-10-02         NaN\n",
       "2022-10-01       650.0\n",
       "2022-09-30       279.0\n",
       "2022-09-29       801.0\n",
       "2022-09-28       136.0\n",
       "...                ...\n",
       "2019-01-05      2108.0\n",
       "2019-01-04      1768.0\n",
       "2019-01-03      2228.0\n",
       "2019-01-02      1809.0\n",
       "2019-01-01      1295.0\n",
       "\n",
       "[1369 rows x 1 columns]"
      ]
     },
     "execution_count": 25,
     "metadata": {},
     "output_type": "execute_result"
    }
   ],
   "source": [
    "df_reverse"
   ]
  },
  {
   "cell_type": "code",
   "execution_count": 26,
   "id": "ff8d8524",
   "metadata": {},
   "outputs": [],
   "source": [
    "#drop null values\n",
    "#df_reverse= df_reverse.dropna()\n",
    "#Filling empty rows\n",
    "#interpolate median\n",
    "#df_reverse = df_reverse.assign(FillMean=df_reverse.AmountSold.fillna(df_reverse.AmountSold.mean()))\n",
    "df_reverse_try = df_reverse.assign(FillMean=df_reverse.AmountSold.fillna(df_reverse.AmountSold.median()))"
   ]
  },
  {
   "cell_type": "code",
   "execution_count": 27,
   "id": "cb456b32",
   "metadata": {},
   "outputs": [],
   "source": [
    "df_reverse_try.drop(columns='AmountSold', inplace=True)"
   ]
  },
  {
   "cell_type": "code",
   "execution_count": 28,
   "id": "afb60c6a",
   "metadata": {},
   "outputs": [
    {
     "data": {
      "text/html": [
       "<div>\n",
       "<style scoped>\n",
       "    .dataframe tbody tr th:only-of-type {\n",
       "        vertical-align: middle;\n",
       "    }\n",
       "\n",
       "    .dataframe tbody tr th {\n",
       "        vertical-align: top;\n",
       "    }\n",
       "\n",
       "    .dataframe thead th {\n",
       "        text-align: right;\n",
       "    }\n",
       "</style>\n",
       "<table border=\"1\" class=\"dataframe\">\n",
       "  <thead>\n",
       "    <tr style=\"text-align: right;\">\n",
       "      <th></th>\n",
       "      <th>FillMean</th>\n",
       "    </tr>\n",
       "    <tr>\n",
       "      <th>Date</th>\n",
       "      <th></th>\n",
       "    </tr>\n",
       "  </thead>\n",
       "  <tbody>\n",
       "    <tr>\n",
       "      <th>2022-10-02</th>\n",
       "      <td>768.0</td>\n",
       "    </tr>\n",
       "    <tr>\n",
       "      <th>2022-10-01</th>\n",
       "      <td>650.0</td>\n",
       "    </tr>\n",
       "    <tr>\n",
       "      <th>2022-09-30</th>\n",
       "      <td>279.0</td>\n",
       "    </tr>\n",
       "    <tr>\n",
       "      <th>2022-09-29</th>\n",
       "      <td>801.0</td>\n",
       "    </tr>\n",
       "    <tr>\n",
       "      <th>2022-09-28</th>\n",
       "      <td>136.0</td>\n",
       "    </tr>\n",
       "    <tr>\n",
       "      <th>...</th>\n",
       "      <td>...</td>\n",
       "    </tr>\n",
       "    <tr>\n",
       "      <th>2019-01-05</th>\n",
       "      <td>2108.0</td>\n",
       "    </tr>\n",
       "    <tr>\n",
       "      <th>2019-01-04</th>\n",
       "      <td>1768.0</td>\n",
       "    </tr>\n",
       "    <tr>\n",
       "      <th>2019-01-03</th>\n",
       "      <td>2228.0</td>\n",
       "    </tr>\n",
       "    <tr>\n",
       "      <th>2019-01-02</th>\n",
       "      <td>1809.0</td>\n",
       "    </tr>\n",
       "    <tr>\n",
       "      <th>2019-01-01</th>\n",
       "      <td>1295.0</td>\n",
       "    </tr>\n",
       "  </tbody>\n",
       "</table>\n",
       "<p>1369 rows × 1 columns</p>\n",
       "</div>"
      ],
      "text/plain": [
       "            FillMean\n",
       "Date                \n",
       "2022-10-02     768.0\n",
       "2022-10-01     650.0\n",
       "2022-09-30     279.0\n",
       "2022-09-29     801.0\n",
       "2022-09-28     136.0\n",
       "...              ...\n",
       "2019-01-05    2108.0\n",
       "2019-01-04    1768.0\n",
       "2019-01-03    2228.0\n",
       "2019-01-02    1809.0\n",
       "2019-01-01    1295.0\n",
       "\n",
       "[1369 rows x 1 columns]"
      ]
     },
     "execution_count": 28,
     "metadata": {},
     "output_type": "execute_result"
    }
   ],
   "source": [
    "df_reverse_try"
   ]
  },
  {
   "cell_type": "code",
   "execution_count": 29,
   "id": "aea62777",
   "metadata": {},
   "outputs": [],
   "source": [
    "df_reverse_try.columns = ['AmountSold']"
   ]
  },
  {
   "cell_type": "code",
   "execution_count": 30,
   "id": "fcb66fce",
   "metadata": {},
   "outputs": [
    {
     "data": {
      "text/html": [
       "<div>\n",
       "<style scoped>\n",
       "    .dataframe tbody tr th:only-of-type {\n",
       "        vertical-align: middle;\n",
       "    }\n",
       "\n",
       "    .dataframe tbody tr th {\n",
       "        vertical-align: top;\n",
       "    }\n",
       "\n",
       "    .dataframe thead th {\n",
       "        text-align: right;\n",
       "    }\n",
       "</style>\n",
       "<table border=\"1\" class=\"dataframe\">\n",
       "  <thead>\n",
       "    <tr style=\"text-align: right;\">\n",
       "      <th></th>\n",
       "      <th>AmountSold</th>\n",
       "    </tr>\n",
       "    <tr>\n",
       "      <th>Date</th>\n",
       "      <th></th>\n",
       "    </tr>\n",
       "  </thead>\n",
       "  <tbody>\n",
       "    <tr>\n",
       "      <th>2022-10-02</th>\n",
       "      <td>768.0</td>\n",
       "    </tr>\n",
       "    <tr>\n",
       "      <th>2022-10-01</th>\n",
       "      <td>650.0</td>\n",
       "    </tr>\n",
       "    <tr>\n",
       "      <th>2022-09-30</th>\n",
       "      <td>279.0</td>\n",
       "    </tr>\n",
       "    <tr>\n",
       "      <th>2022-09-29</th>\n",
       "      <td>801.0</td>\n",
       "    </tr>\n",
       "    <tr>\n",
       "      <th>2022-09-28</th>\n",
       "      <td>136.0</td>\n",
       "    </tr>\n",
       "    <tr>\n",
       "      <th>...</th>\n",
       "      <td>...</td>\n",
       "    </tr>\n",
       "    <tr>\n",
       "      <th>2019-01-05</th>\n",
       "      <td>2108.0</td>\n",
       "    </tr>\n",
       "    <tr>\n",
       "      <th>2019-01-04</th>\n",
       "      <td>1768.0</td>\n",
       "    </tr>\n",
       "    <tr>\n",
       "      <th>2019-01-03</th>\n",
       "      <td>2228.0</td>\n",
       "    </tr>\n",
       "    <tr>\n",
       "      <th>2019-01-02</th>\n",
       "      <td>1809.0</td>\n",
       "    </tr>\n",
       "    <tr>\n",
       "      <th>2019-01-01</th>\n",
       "      <td>1295.0</td>\n",
       "    </tr>\n",
       "  </tbody>\n",
       "</table>\n",
       "<p>1369 rows × 1 columns</p>\n",
       "</div>"
      ],
      "text/plain": [
       "            AmountSold\n",
       "Date                  \n",
       "2022-10-02       768.0\n",
       "2022-10-01       650.0\n",
       "2022-09-30       279.0\n",
       "2022-09-29       801.0\n",
       "2022-09-28       136.0\n",
       "...                ...\n",
       "2019-01-05      2108.0\n",
       "2019-01-04      1768.0\n",
       "2019-01-03      2228.0\n",
       "2019-01-02      1809.0\n",
       "2019-01-01      1295.0\n",
       "\n",
       "[1369 rows x 1 columns]"
      ]
     },
     "execution_count": 30,
     "metadata": {},
     "output_type": "execute_result"
    }
   ],
   "source": [
    "df_reverse_try"
   ]
  },
  {
   "cell_type": "code",
   "execution_count": 31,
   "id": "75822ca1",
   "metadata": {},
   "outputs": [
    {
     "data": {
      "text/plain": [
       "<AxesSubplot:xlabel='Date'>"
      ]
     },
     "execution_count": 31,
     "metadata": {},
     "output_type": "execute_result"
    },
    {
     "data": {
      "image/png": "[encoded data removed]",
      "text/plain": [
       "<Figure size 864x432 with 1 Axes>"
      ]
     },
     "metadata": {
      "needs_background": "light"
     },
     "output_type": "display_data"
    }
   ],
   "source": [
    "#Trial begins\n",
    "df_reverse_try.plot(figsize=(12,6))"
   ]
  },
  {
   "cell_type": "code",
   "execution_count": 32,
   "id": "8812472e",
   "metadata": {},
   "outputs": [],
   "source": [
    "#changing dataframe to a numpy array\n",
    "df_reverse_try = df_reverse_try.values"
   ]
  },
  {
   "cell_type": "code",
   "execution_count": 33,
   "id": "ce54cf36",
   "metadata": {},
   "outputs": [
    {
     "data": {
      "text/plain": [
       "array([[ 768.],\n",
       "       [ 650.],\n",
       "       [ 279.],\n",
       "       ...,\n",
       "       [2228.],\n",
       "       [1809.],\n",
       "       [1295.]])"
      ]
     },
     "execution_count": 33,
     "metadata": {},
     "output_type": "execute_result"
    }
   ],
   "source": [
    "#check\n",
    "df_reverse_try"
   ]
  },
  {
   "cell_type": "code",
   "execution_count": 34,
   "id": "6026fb67",
   "metadata": {},
   "outputs": [],
   "source": [
    "#We are using 95% training data\n",
    "#ceil rounds up the number\n",
    "training_data_len = int(np.ceil(len(df_reverse_try)*0.95))"
   ]
  },
  {
   "cell_type": "code",
   "execution_count": 35,
   "id": "38b8d97b",
   "metadata": {},
   "outputs": [
    {
     "data": {
      "text/plain": [
       "1301"
      ]
     },
     "execution_count": 35,
     "metadata": {},
     "output_type": "execute_result"
    }
   ],
   "source": [
    "training_data_len\n"
   ]
  },
  {
   "cell_type": "code",
   "execution_count": 36,
   "id": "af03c8a7",
   "metadata": {},
   "outputs": [
    {
     "data": {
      "text/plain": [
       "array([[0.1005104 ],\n",
       "       [0.0850674 ],\n",
       "       [0.03651355],\n",
       "       ...,\n",
       "       [0.29158487],\n",
       "       [0.23674912],\n",
       "       [0.16948043]])"
      ]
     },
     "execution_count": 36,
     "metadata": {},
     "output_type": "execute_result"
    }
   ],
   "source": [
    "#scaling the data\n",
    "from sklearn.preprocessing import MinMaxScaler\n",
    "#values between 0 and 1\n",
    "scaler = MinMaxScaler(feature_range=(0,1))\n",
    "#transform dataframe \n",
    "scaled_data = scaler.fit_transform(df_reverse_try)\n",
    "scaled_data"
   ]
  },
  {
   "cell_type": "code",
   "execution_count": 37,
   "id": "661ae0d6",
   "metadata": {},
   "outputs": [
    {
     "name": "stdout",
     "output_type": "stream",
     "text": [
      "[array([0.1005104 , 0.0850674 , 0.03651355, 0.10482921, 0.01779872,\n",
      "       0.0425337 , 0.08441303, 0.06124853, 0.02630546, 0.04724512,\n",
      "       0.24028269, 0.30637351, 0.17144353, 0.07917812, 0.14893339,\n",
      "       0.02944641, 0.04855385, 0.18714828, 0.21384636, 0.21685643,\n",
      "       0.30467216, 0.15861798, 0.10954064, 0.26907473, 0.08284256,\n",
      "       0.10142651, 0.18583955, 0.0410941 , 0.12747023, 0.04606727,\n",
      "       0.07211098, 0.02120141, 0.05104044, 0.01989268, 0.05614448,\n",
      "       0.02408062, 0.04685251, 0.01086245, 0.03468132, 0.03023165,\n",
      "       0.04606727, 0.01871483, 0.06229551, 0.03363434, 0.01950007,\n",
      "       0.03402696, 0.04515116, 0.03258736, 0.04868473, 0.0314095 ,\n",
      "       0.07355058, 0.03154037, 0.04920822, 0.03520482, 0.01714435,\n",
      "       0.04933909, 0.02970815, 0.04096322, 0.05012433, 0.03651355])]\n",
      "[0.06687606334249444]\n",
      "\n",
      "[array([0.1005104 , 0.0850674 , 0.03651355, 0.10482921, 0.01779872,\n",
      "       0.0425337 , 0.08441303, 0.06124853, 0.02630546, 0.04724512,\n",
      "       0.24028269, 0.30637351, 0.17144353, 0.07917812, 0.14893339,\n",
      "       0.02944641, 0.04855385, 0.18714828, 0.21384636, 0.21685643,\n",
      "       0.30467216, 0.15861798, 0.10954064, 0.26907473, 0.08284256,\n",
      "       0.10142651, 0.18583955, 0.0410941 , 0.12747023, 0.04606727,\n",
      "       0.07211098, 0.02120141, 0.05104044, 0.01989268, 0.05614448,\n",
      "       0.02408062, 0.04685251, 0.01086245, 0.03468132, 0.03023165,\n",
      "       0.04606727, 0.01871483, 0.06229551, 0.03363434, 0.01950007,\n",
      "       0.03402696, 0.04515116, 0.03258736, 0.04868473, 0.0314095 ,\n",
      "       0.07355058, 0.03154037, 0.04920822, 0.03520482, 0.01714435,\n",
      "       0.04933909, 0.02970815, 0.04096322, 0.05012433, 0.03651355]), array([0.0850674 , 0.03651355, 0.10482921, 0.01779872, 0.0425337 ,\n",
      "       0.08441303, 0.06124853, 0.02630546, 0.04724512, 0.24028269,\n",
      "       0.30637351, 0.17144353, 0.07917812, 0.14893339, 0.02944641,\n",
      "       0.04855385, 0.18714828, 0.21384636, 0.21685643, 0.30467216,\n",
      "       0.15861798, 0.10954064, 0.26907473, 0.08284256, 0.10142651,\n",
      "       0.18583955, 0.0410941 , 0.12747023, 0.04606727, 0.07211098,\n",
      "       0.02120141, 0.05104044, 0.01989268, 0.05614448, 0.02408062,\n",
      "       0.04685251, 0.01086245, 0.03468132, 0.03023165, 0.04606727,\n",
      "       0.01871483, 0.06229551, 0.03363434, 0.01950007, 0.03402696,\n",
      "       0.04515116, 0.03258736, 0.04868473, 0.0314095 , 0.07355058,\n",
      "       0.03154037, 0.04920822, 0.03520482, 0.01714435, 0.04933909,\n",
      "       0.02970815, 0.04096322, 0.05012433, 0.03651355, 0.06687606])]\n",
      "[0.06687606334249444, 0.044104174846224316]\n",
      "\n"
     ]
    }
   ],
   "source": [
    "#Create scaled training data set\n",
    "train_data = scaled_data[0:int(training_data_len), :]\n",
    "#splitting the data into x_train and y_train\n",
    "\n",
    "x_train = []\n",
    "#target variable\n",
    "y_train = []\n",
    "\n",
    "#append past 60 values to x_train data.\n",
    "#i not included\n",
    "for i in range(60, len(train_data)):\n",
    "    #60 values(0-59)\n",
    "    x_train.append(train_data[i-60:i,0])\n",
    "    #(60-len(train_data))\n",
    "    y_train.append(train_data[i,0])\n",
    "    if i<=61:\n",
    "        print(x_train)\n",
    "        print(y_train)\n",
    "        print()\n",
    "\n",
    "#Converting x_train and y_train to numpy arrays        \n",
    "x_train, y_train = np.array(x_train), np.array(y_train)\n",
    "\n",
    "#Reshaping (LSTM = 3D but this data is 2D(R,C), changing into 3D)\n",
    "x_train = np.reshape(x_train,(x_train.shape[0],x_train.shape[1], 1))"
   ]
  },
  {
   "cell_type": "code",
   "execution_count": 38,
   "id": "1279a79c",
   "metadata": {},
   "outputs": [],
   "source": [
    "from keras.models import Sequential\n",
    "from keras.layers import Dense\n",
    "from keras.layers import LSTM"
   ]
  },
  {
   "cell_type": "code",
   "execution_count": 40,
   "id": "738ad144",
   "metadata": {},
   "outputs": [],
   "source": [
    "#define LSTM model\n",
    "model = Sequential()\n",
    "#100 neurons\n",
    "#return_sequences is true if using another layer\n",
    "model.add(LSTM(128,return_sequences = True, input_shape= (x_train.shape[1],1)))\n",
    "model.add(LSTM(64, return_sequences = False))\n",
    "model.add(Dense(25))\n",
    "model.add(Dense(1))\n",
    "model.compile(optimizer='adam',loss='mse')"
   ]
  },
  {
   "cell_type": "code",
   "execution_count": 55,
   "id": "d7d8aeeb",
   "metadata": {},
   "outputs": [
    {
     "name": "stdout",
     "output_type": "stream",
     "text": [
      "Model: \"sequential_1\"\n",
      "_________________________________________________________________\n",
      " Layer (type)                Output Shape              Param #   \n",
      "=================================================================\n",
      " lstm (LSTM)                 (None, 60, 128)           66560     \n",
      "                                                                 \n",
      " lstm_1 (LSTM)               (None, 64)                49408     \n",
      "                                                                 \n",
      " dense (Dense)               (None, 25)                1625      \n",
      "                                                                 \n",
      " dense_1 (Dense)             (None, 1)                 26        \n",
      "                                                                 \n",
      "=================================================================\n",
      "Total params: 117,619\n",
      "Trainable params: 117,619\n",
      "Non-trainable params: 0\n",
      "_________________________________________________________________\n"
     ]
    }
   ],
   "source": [
    "model.summary()"
   ]
  },
  {
   "cell_type": "code",
   "execution_count": 42,
   "id": "74ae4b17",
   "metadata": {},
   "outputs": [
    {
     "name": "stdout",
     "output_type": "stream",
     "text": [
      "Epoch 1/30\n",
      "1241/1241 [==============================] - 22s 18ms/step - loss: 0.0108\n",
      "Epoch 2/30\n",
      "1241/1241 [==============================] - 20s 16ms/step - loss: 0.0106\n",
      "Epoch 3/30\n",
      "1241/1241 [==============================] - 20s 16ms/step - loss: 0.0106\n",
      "Epoch 4/30\n",
      "1241/1241 [==============================] - 19s 15ms/step - loss: 0.0104\n",
      "Epoch 5/30\n",
      "1241/1241 [==============================] - 21s 17ms/step - loss: 0.0103\n",
      "Epoch 6/30\n",
      "1241/1241 [==============================] - 23s 19ms/step - loss: 0.0101\n",
      "Epoch 7/30\n",
      "1241/1241 [==============================] - 20s 16ms/step - loss: 0.0102\n",
      "Epoch 8/30\n",
      "1241/1241 [==============================] - 19s 16ms/step - loss: 0.0100\n",
      "Epoch 9/30\n",
      "1241/1241 [==============================] - 19s 15ms/step - loss: 0.0104\n",
      "Epoch 10/30\n",
      "1241/1241 [==============================] - 19s 15ms/step - loss: 0.0098\n",
      "Epoch 11/30\n",
      "1241/1241 [==============================] - 20s 16ms/step - loss: 0.0097\n",
      "Epoch 12/30\n",
      "1241/1241 [==============================] - 21s 17ms/step - loss: 0.0097\n",
      "Epoch 13/30\n",
      "1241/1241 [==============================] - 19s 16ms/step - loss: 0.0097\n",
      "Epoch 14/30\n",
      "1241/1241 [==============================] - 20s 16ms/step - loss: 0.0139\n",
      "Epoch 15/30\n",
      "1241/1241 [==============================] - 20s 16ms/step - loss: 0.0106\n",
      "Epoch 16/30\n",
      "1241/1241 [==============================] - 20s 16ms/step - loss: 0.0099\n",
      "Epoch 17/30\n",
      "1241/1241 [==============================] - 19s 15ms/step - loss: 0.0097\n",
      "Epoch 18/30\n",
      "1241/1241 [==============================] - 22s 17ms/step - loss: 0.0097\n",
      "Epoch 19/30\n",
      "1241/1241 [==============================] - 19s 15ms/step - loss: 0.0098\n",
      "Epoch 20/30\n",
      "1241/1241 [==============================] - 19s 16ms/step - loss: 0.0095\n",
      "Epoch 21/30\n",
      "1241/1241 [==============================] - 23s 19ms/step - loss: 0.0106\n",
      "Epoch 22/30\n",
      "1241/1241 [==============================] - 19s 16ms/step - loss: 0.0106\n",
      "Epoch 23/30\n",
      "1241/1241 [==============================] - 19s 15ms/step - loss: 0.0096\n",
      "Epoch 24/30\n",
      "1241/1241 [==============================] - 24s 19ms/step - loss: 0.0095\n",
      "Epoch 25/30\n",
      "1241/1241 [==============================] - 19s 16ms/step - loss: 0.0095\n",
      "Epoch 26/30\n",
      "1241/1241 [==============================] - 19s 15ms/step - loss: 0.0094\n",
      "Epoch 27/30\n",
      "1241/1241 [==============================] - 24s 19ms/step - loss: 0.0094\n",
      "Epoch 28/30\n",
      "1241/1241 [==============================] - 21s 17ms/step - loss: 0.0095\n",
      "Epoch 29/30\n",
      "1241/1241 [==============================] - 21s 17ms/step - loss: 0.0095\n",
      "Epoch 30/30\n",
      "1241/1241 [==============================] - 22s 18ms/step - loss: 0.0095\n"
     ]
    },
    {
     "data": {
      "text/plain": [
       "<keras.callbacks.History at 0x163c9d7e0>"
      ]
     },
     "execution_count": 42,
     "metadata": {},
     "output_type": "execute_result"
    }
   ],
   "source": [
    "#Training the model\n",
    "model.fit(x_train, y_train, batch_size=1, epochs=30)"
   ]
  },
  {
   "cell_type": "code",
   "execution_count": 62,
   "id": "8709c61e",
   "metadata": {},
   "outputs": [],
   "source": [
    "model.save('lstm_model.h5')"
   ]
  },
  {
   "cell_type": "code",
   "execution_count": 43,
   "id": "83739232",
   "metadata": {},
   "outputs": [
    {
     "data": {
      "text/plain": [
       "[<matplotlib.lines.Line2D at 0x163cfcf70>]"
      ]
     },
     "execution_count": 43,
     "metadata": {},
     "output_type": "execute_result"
    },
    {
     "data": {
      "image/png": "[encoded data removed]",
      "text/plain": [
       "<Figure size 432x288 with 1 Axes>"
      ]
     },
     "metadata": {
      "needs_background": "light"
     },
     "output_type": "display_data"
    }
   ],
   "source": [
    "#loss function\n",
    "loss_per_epoch = model.history.history['loss']\n",
    "plt.plot(range(len(loss_per_epoch)),loss_per_epoch)"
   ]
  },
  {
   "cell_type": "code",
   "execution_count": 45,
   "id": "89b00f53",
   "metadata": {},
   "outputs": [
    {
     "name": "stdout",
     "output_type": "stream",
     "text": [
      "3/3 [==============================] - 1s 10ms/step\n"
     ]
    }
   ],
   "source": [
    "#testing dataset\n",
    "#Scaled test dataset\n",
    "#(60-end)\n",
    "test_data = scaled_data[training_data_len -60: , :]\n",
    "x_test = []\n",
    "#not used in train\n",
    "#predict value\n",
    "y_test = df_reverse_try[training_data_len:, :]\n",
    "#(60-end)\n",
    "for i in range(60, len(test_data)):\n",
    "    x_test.append(test_data[i-60:i,0])\n",
    "\n",
    "#Converting to numpy array \n",
    "x_test = np.array(x_test)\n",
    "\n",
    "#Reshaping the data(x_test(No.ofsamples,timesteps, no.offeatures))\n",
    "#2D-3D #60\n",
    "x_test = np.reshape(x_test, (x_test.shape[0], x_test.shape[1], 1))\n",
    "\n",
    "#models predicted actual sold\n",
    "predictions = model.predict(x_test)\n",
    "predictions = scaler.inverse_transform(predictions)"
   ]
  },
  {
   "cell_type": "code",
   "execution_count": 56,
   "id": "73ecb8bc",
   "metadata": {},
   "outputs": [
    {
     "data": {
      "text/plain": [
       "array([[1004.90814],\n",
       "       [1194.887  ],\n",
       "       [1087.8914 ],\n",
       "       [ 814.24005],\n",
       "       [ 722.393  ],\n",
       "       [ 812.2665 ],\n",
       "       [ 648.5594 ],\n",
       "       [2207.0776 ],\n",
       "       [3778.8132 ],\n",
       "       [3104.0688 ],\n",
       "       [1246.015  ],\n",
       "       [1350.7941 ],\n",
       "       [1214.7395 ],\n",
       "       [ 980.0834 ],\n",
       "       [ 890.996  ],\n",
       "       [1044.6227 ],\n",
       "       [1069.9647 ],\n",
       "       [1062.5487 ],\n",
       "       [ 880.1102 ],\n",
       "       [ 864.1834 ],\n",
       "       [1030.5819 ],\n",
       "       [1106.0155 ],\n",
       "       [1158.168  ],\n",
       "       [ 986.90393],\n",
       "       [1152.7076 ],\n",
       "       [1456.934  ],\n",
       "       [1254.4556 ],\n",
       "       [1079.0483 ],\n",
       "       [1299.0273 ],\n",
       "       [1544.1111 ],\n",
       "       [1169.0138 ],\n",
       "       [1037.0905 ],\n",
       "       [1397.4547 ],\n",
       "       [1820.5814 ],\n",
       "       [1482.7505 ],\n",
       "       [1360.2876 ],\n",
       "       [1160.3601 ],\n",
       "       [1035.0541 ],\n",
       "       [1170.2169 ],\n",
       "       [1232.6124 ],\n",
       "       [1063.3035 ],\n",
       "       [1043.5912 ],\n",
       "       [1134.9949 ],\n",
       "       [1126.8969 ],\n",
       "       [1154.7314 ],\n",
       "       [1097.7029 ],\n",
       "       [1240.186  ],\n",
       "       [1125.3623 ],\n",
       "       [ 821.24347],\n",
       "       [ 871.2841 ],\n",
       "       [ 859.9862 ],\n",
       "       [ 669.6335 ],\n",
       "       [1021.55774],\n",
       "       [1113.1396 ],\n",
       "       [1567.1802 ],\n",
       "       [1405.8472 ],\n",
       "       [1527.2822 ],\n",
       "       [1617.0271 ],\n",
       "       [1302.5802 ],\n",
       "       [1293.2273 ],\n",
       "       [1248.7205 ],\n",
       "       [1146.6957 ],\n",
       "       [1080.5336 ],\n",
       "       [ 856.77155],\n",
       "       [1116.9705 ],\n",
       "       [1343.2529 ],\n",
       "       [1524.085  ],\n",
       "       [1446.3104 ]], dtype=float32)"
      ]
     },
     "execution_count": 56,
     "metadata": {},
     "output_type": "execute_result"
    }
   ],
   "source": [
    "predictions"
   ]
  },
  {
   "cell_type": "code",
   "execution_count": 59,
   "id": "8bc9b386",
   "metadata": {},
   "outputs": [
    {
     "data": {
      "text/html": [
       "<div>\n",
       "<style scoped>\n",
       "    .dataframe tbody tr th:only-of-type {\n",
       "        vertical-align: middle;\n",
       "    }\n",
       "\n",
       "    .dataframe tbody tr th {\n",
       "        vertical-align: top;\n",
       "    }\n",
       "\n",
       "    .dataframe thead th {\n",
       "        text-align: right;\n",
       "    }\n",
       "</style>\n",
       "<table border=\"1\" class=\"dataframe\">\n",
       "  <thead>\n",
       "    <tr style=\"text-align: right;\">\n",
       "      <th></th>\n",
       "      <th>AmountSold</th>\n",
       "      <th>Predictions</th>\n",
       "    </tr>\n",
       "    <tr>\n",
       "      <th>Date</th>\n",
       "      <th></th>\n",
       "      <th></th>\n",
       "    </tr>\n",
       "  </thead>\n",
       "  <tbody>\n",
       "    <tr>\n",
       "      <th>2019-03-11</th>\n",
       "      <td>1939.0</td>\n",
       "      <td>1004.908142</td>\n",
       "    </tr>\n",
       "    <tr>\n",
       "      <th>2019-03-10</th>\n",
       "      <td>1392.0</td>\n",
       "      <td>1194.886963</td>\n",
       "    </tr>\n",
       "    <tr>\n",
       "      <th>2019-03-09</th>\n",
       "      <td>468.0</td>\n",
       "      <td>1087.891357</td>\n",
       "    </tr>\n",
       "    <tr>\n",
       "      <th>2019-03-08</th>\n",
       "      <td>918.0</td>\n",
       "      <td>814.240051</td>\n",
       "    </tr>\n",
       "    <tr>\n",
       "      <th>2019-03-07</th>\n",
       "      <td>1309.0</td>\n",
       "      <td>722.393005</td>\n",
       "    </tr>\n",
       "    <tr>\n",
       "      <th>...</th>\n",
       "      <td>...</td>\n",
       "      <td>...</td>\n",
       "    </tr>\n",
       "    <tr>\n",
       "      <th>2019-01-05</th>\n",
       "      <td>2108.0</td>\n",
       "      <td>856.771545</td>\n",
       "    </tr>\n",
       "    <tr>\n",
       "      <th>2019-01-04</th>\n",
       "      <td>1768.0</td>\n",
       "      <td>1116.970459</td>\n",
       "    </tr>\n",
       "    <tr>\n",
       "      <th>2019-01-03</th>\n",
       "      <td>2228.0</td>\n",
       "      <td>1343.252930</td>\n",
       "    </tr>\n",
       "    <tr>\n",
       "      <th>2019-01-02</th>\n",
       "      <td>1809.0</td>\n",
       "      <td>1524.084961</td>\n",
       "    </tr>\n",
       "    <tr>\n",
       "      <th>2019-01-01</th>\n",
       "      <td>1295.0</td>\n",
       "      <td>1446.310425</td>\n",
       "    </tr>\n",
       "  </tbody>\n",
       "</table>\n",
       "<p>68 rows × 2 columns</p>\n",
       "</div>"
      ],
      "text/plain": [
       "            AmountSold  Predictions\n",
       "Date                               \n",
       "2019-03-11      1939.0  1004.908142\n",
       "2019-03-10      1392.0  1194.886963\n",
       "2019-03-09       468.0  1087.891357\n",
       "2019-03-08       918.0   814.240051\n",
       "2019-03-07      1309.0   722.393005\n",
       "...                ...          ...\n",
       "2019-01-05      2108.0   856.771545\n",
       "2019-01-04      1768.0  1116.970459\n",
       "2019-01-03      2228.0  1343.252930\n",
       "2019-01-02      1809.0  1524.084961\n",
       "2019-01-01      1295.0  1446.310425\n",
       "\n",
       "[68 rows x 2 columns]"
      ]
     },
     "execution_count": 59,
     "metadata": {},
     "output_type": "execute_result"
    }
   ],
   "source": [
    "valid = df_reverse[training_data_len:]\n",
    "valid['Predictions'] = predictions\n",
    "valid"
   ]
  },
  {
   "cell_type": "code",
   "execution_count": 46,
   "id": "1a7524e9",
   "metadata": {},
   "outputs": [
    {
     "data": {
      "text/plain": [
       "928.2483236881727"
      ]
     },
     "execution_count": 46,
     "metadata": {},
     "output_type": "execute_result"
    }
   ],
   "source": [
    "rmse = np.sqrt(np.mean(((predictions-y_test)**2)))\n",
    "rmse"
   ]
  },
  {
   "cell_type": "code",
   "execution_count": 47,
   "id": "9efb3c5a",
   "metadata": {},
   "outputs": [],
   "source": [
    "mape = np.mean(np.abs((y_test-predictions)/y_test))* 100"
   ]
  },
  {
   "cell_type": "code",
   "execution_count": 48,
   "id": "eb98794c",
   "metadata": {},
   "outputs": [
    {
     "data": {
      "text/plain": [
       "151.21688481909206"
      ]
     },
     "execution_count": 48,
     "metadata": {},
     "output_type": "execute_result"
    }
   ],
   "source": [
    "mape"
   ]
  },
  {
   "cell_type": "code",
   "execution_count": 54,
   "id": "327dc4cc",
   "metadata": {},
   "outputs": [
    {
     "data": {
      "text/plain": [
       "<matplotlib.legend.Legend at 0x164c9df90>"
      ]
     },
     "execution_count": 54,
     "metadata": {},
     "output_type": "execute_result"
    },
    {
     "data": {
      "image/png": "[encoded data removed]",
      "text/plain": [
       "<Figure size 936x360 with 1 Axes>"
      ]
     },
     "metadata": {
      "needs_background": "light"
     },
     "output_type": "display_data"
    }
   ],
   "source": [
    "pd.options.mode.chained_assignment = None\n",
    "train = df_reverse[:training_data_len]\n",
    "valid = df_reverse[training_data_len:]\n",
    "valid['Predictions'] = predictions\n",
    "\n",
    "plt.figure(figsize=(13,5))\n",
    "plt.title('Amount Sold Prediction')\n",
    "plt.xlabel('Date', fontsize = 13)\n",
    "plt.ylabel('Amount Sold', fontsize=13)\n",
    "plt.plot(train['AmountSold'])\n",
    "plt.plot(valid[['AmountSold', 'Predictions']])\n",
    "plt.legend(['Train', 'Test', 'Predictions'], loc='upper left')"
   ]
  },
  {
   "cell_type": "code",
   "execution_count": null,
   "id": "f4939ed6",
   "metadata": {},
   "outputs": [],
   "source": []
  }
 ],
 "metadata": {
  "kernelspec": {
   "display_name": "Python 3 (ipykernel)",
   "language": "python",
   "name": "python3"
  },
  "language_info": {
   "codemirror_mode": {
    "name": "ipython",
    "version": 3
   },
   "file_extension": ".py",
   "mimetype": "text/x-python",
   "name": "python",
   "nbconvert_exporter": "python",
   "pygments_lexer": "ipython3",
   "version": "3.10.7"
  }
 },
 "nbformat": 4,
 "nbformat_minor": 5
}
