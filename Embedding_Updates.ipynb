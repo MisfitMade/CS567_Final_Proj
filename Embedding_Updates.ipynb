{
 "cells": [
  {
   "cell_type": "code",
   "execution_count": 43,
   "metadata": {},
   "outputs": [
    {
     "name": "stdout",
     "output_type": "stream",
     "text": [
      "The autoreload extension is already loaded. To reload it, use:\n",
      "  %reload_ext autoreload\n"
     ]
    }
   ],
   "source": [
    "%load_ext autoreload\n",
    "%autoreload 2\n",
    "\n",
    "from FP567_Lib import *\n",
    "\n",
    "import tensorflow as tf\n",
    "from tensorflow import keras\n",
    "import matplotlib as mpl\n",
    "import matplotlib.pyplot as plt\n",
    "import pathlib\n",
    "import os\n",
    "import numpy as np\n",
    "\n",
    "# improve/change plot appearance\n",
    "mpl.rc('axes', labelsize=14)\n",
    "mpl.rc('xtick', labelsize=12)\n",
    "mpl.rc('ytick', labelsize=12)"
   ]
  },
  {
   "cell_type": "code",
   "execution_count": 5,
   "metadata": {},
   "outputs": [],
   "source": [
    "'''\n",
    "After having their html removed, some of the update files are useless. Lets seperate them\n",
    "'''\n",
    "move_file_to_if_fnx(\n",
    "    PATH_TO_RAW_GAME_UPDATES,\n",
    "    PATH_TO_NOISY_JUNK_UPDATES,\n",
    "    check_if_init_is_game_updates)"
   ]
  },
  {
   "cell_type": "code",
   "execution_count": null,
   "metadata": {},
   "outputs": [],
   "source": [
    "'''\n",
    "resoureces/raw_updates/\n",
    "    by_year_updates\n",
    "    by_day_updates\n",
    "    game_updates\n",
    "are the same updates, just oranized differently. \n",
    "Let's use the by_year_updates file and make some specfic yy/mm/dd_update files.\n",
    "The by_year_updates have a certain form/pattern.\n",
    "'''\n",
    "unprocd_year_updates = os.path.join(PATH_TO_RAW_UPDATES, \"by_year_updates\")\n",
    "for file in os.listdir(unprocd_year_updates):\n",
    "    print(file[:4])\n",
    "    yy = file[2:4]\n",
    "    lines = open(os.path.join(unprocd_year_updates, file), \"r\").readlines()\n",
    "    i = 0\n",
    "    while i < len(lines):\n",
    "        toks = lines[i].split()\n",
    "        if len(toks) == 2:\n",
    "            maybe_month = toks[1].lower()\n",
    "            if toks[0] == \"##\" and maybe_month in MONTHS:\n",
    "                print(f\"\\t{maybe_month}\")\n",
    "                path_to_month_folder = os.path.join(\n",
    "                    PATH_TO_PROCESSED_UPDATES,\n",
    "                    yy,\n",
    "                    word_month_to_number_month(maybe_month))\n",
    "                os.makedirs(path_to_month_folder, exist_ok=True)\n",
    "                i = i + 2\n",
    "                update_line_toks = lines[i].split()\n",
    "                while len(update_line_toks) > 0:\n",
    "                    d = update_line_toks[1][:-2]\n",
    "                    print(f\"\\t\\t{d}\")\n",
    "                    # write this update as its own file at yy/m/d.\n",
    "                    # if in here, maybe_month is now for sure a month\n",
    "                    with open(os.path.join(path_to_month_folder, f\"{d}.txt\"), 'w') as f:\n",
    "                        f.write(\" \".join(update_line_toks[3:]))\n",
    "\n",
    "                    i = i + 1\n",
    "                    update_line_toks = lines[i].split()\n",
    "        i = i + 1\n"
   ]
  },
  {
   "cell_type": "code",
   "execution_count": null,
   "metadata": {},
   "outputs": [],
   "source": [
    "'''\n",
    "Found another file with some extractable updates that are different than\n",
    "those that we already have:\n",
    "resources/Raw_Updates/misc_updates/Combat_Achievements.html.clean\n",
    "'''\n",
    "lines = open(os.path.join(PATH_TO_RAW_MISC_UPDATES, \"Combat_Achievements.html.clean\")).readlines()\n",
    "i = 0\n",
    "while i < len(lines):\n",
    "    toks = lines[i].split()\n",
    "    if len(toks) == 3 and toks[0] == \"Date\" and toks[2] == \"Changes\":\n",
    "        i = i + 1\n",
    "        toks = lines[i].split()\n",
    "        while (toks[0] != \"##\"):\n",
    "            # get the date line as a folder path\n",
    "            d = toks[0]\n",
    "            path_to_day_folder = os.path.join(\n",
    "                PATH_TO_PROCESSED_UPDATES_BY_YEAR,\n",
    "                toks[2][2:4],\n",
    "                word_month_to_number_month(toks[1]),\n",
    "                d)\n",
    "            os.makedirs(path_to_day_folder, exist_ok=True)\n",
    "            # gather the lines below\n",
    "            per_day_update_ctr = len(os.listdir(path_to_day_folder))\n",
    "            i = i + 1\n",
    "            lines_to_write = []\n",
    "            line_i = lines[i]\n",
    "            toks = line_i.split()\n",
    "            while len(toks) > 0:\n",
    "                with open(os.path.join(path_to_day_folder, f\"{d}_{per_day_update_ctr}.txt\"), 'w') as f:\n",
    "                    f.write(line_i)\n",
    "                per_day_update_ctr = per_day_update_ctr + 1\n",
    "                i = i + 1\n",
    "                line_i = lines[i]\n",
    "                toks = line_i.split()\n",
    "\n",
    "            i = i + 1\n",
    "            toks = lines[i].split()\n",
    "    i = i + 1"
   ]
  }
 ],
 "metadata": {
  "kernelspec": {
   "display_name": "Python 3.9.13 ('567FP')",
   "language": "python",
   "name": "python3"
  },
  "language_info": {
   "codemirror_mode": {
    "name": "ipython",
    "version": 3
   },
   "file_extension": ".py",
   "mimetype": "text/x-python",
   "name": "python",
   "nbconvert_exporter": "python",
   "pygments_lexer": "ipython3",
   "version": "3.9.13"
  },
  "orig_nbformat": 4,
  "vscode": {
   "interpreter": {
    "hash": "f8737e8cb70a0f7f021fa9834a2ae2129f817e796f624513bd53dcfd8a7bc265"
   }
  }
 },
 "nbformat": 4,
 "nbformat_minor": 2
}
