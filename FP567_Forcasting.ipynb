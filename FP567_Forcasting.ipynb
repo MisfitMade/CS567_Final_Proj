{
 "cells": [
  {
   "cell_type": "code",
   "execution_count": null,
   "metadata": {},
   "outputs": [],
   "source": [
    "%load_ext autoreload\n",
    "%autoreload 2\n",
    "\n",
    "from FP567_Lib import *\n",
    "\n",
    "import tensorflow as tf\n",
    "import json\n",
    "import pandas as pd\n",
    "import matplotlib.pyplot as plt"
   ]
  },
  {
   "cell_type": "code",
   "execution_count": null,
   "metadata": {},
   "outputs": [],
   "source": [
    "# Get the info of the model we want to load\n",
    "model_month = \"\"\n",
    "model_day = \"\"\n",
    "model_time = \"\"\n",
    "PATH_TO_MODEL_INFO = os.path.join(\n",
    "    PATH_TO_MODELS_DIRECTORY,\n",
    "    model_month,\n",
    "    model_day,\n",
    "    model_time)\n",
    "\n",
    "# save_at_n.hf files are to big to push to github\n",
    "PATH_TO_WEIGHTS_TO_LOAD = os.path.join(PATH_TO_MODEL_INFO, \"save_at_11.h5\")\n",
    "PATH_TO_JSON_PARAMS = os.path.join(PATH_TO_MODEL_INFO, \"training_params.json\")\n",
    "print(\"Path to weights:\", PATH_TO_WEIGHTS_TO_LOAD)"
   ]
  },
  {
   "cell_type": "code",
   "execution_count": null,
   "metadata": {},
   "outputs": [],
   "source": [
    "if not (os.path.exists(PATH_TO_JSON_PARAMS) and os.path.exists(PATH_TO_WEIGHTS_TO_LOAD)):\n",
    "    raise Exception(\"Requested model info does not exist.\")\n",
    "\n",
    "params_dict = json.load(open(PATH_TO_JSON_PARAMS))\n",
    "model = get_model(\n",
    "    (params_dict[NUMBER_ITEMS_PREDICTED_STR], params_dict[TIME_WINDOW_SIZE_STR]),\n",
    "    params_dict[BATCH_SIZE_STR],\n",
    "    params_dict[PREDICT_SIZE_STR])\n",
    "model.load_weights(PATH_TO_WEIGHTS_TO_LOAD)"
   ]
  }
 ],
 "metadata": {
  "kernelspec": {
   "display_name": "Python 3.9.13 ('567FP')",
   "language": "python",
   "name": "python3"
  },
  "language_info": {
   "name": "python",
   "version": "3.9.13"
  },
  "orig_nbformat": 4,
  "vscode": {
   "interpreter": {
    "hash": "f8737e8cb70a0f7f021fa9834a2ae2129f817e796f624513bd53dcfd8a7bc265"
   }
  }
 },
 "nbformat": 4,
 "nbformat_minor": 2
}
